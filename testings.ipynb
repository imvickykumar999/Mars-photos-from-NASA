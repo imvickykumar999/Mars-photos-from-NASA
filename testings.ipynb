{
 "cells": [
  {
   "cell_type": "markdown",
   "metadata": {},
   "source": [
    "#### https://pfertyk.me/2017/06/getting-mars-photos-from-nasa-using-aiohttp/"
   ]
  },
  {
   "cell_type": "code",
   "execution_count": 1,
   "metadata": {},
   "outputs": [
    {
     "name": "stdout",
     "output_type": "stream",
     "text": [
      "Requirement already satisfied: aiohttp in c:\\users\\vicky\\anaconda3\\lib\\site-packages (3.8.1)\n",
      "Requirement already satisfied: charset-normalizer<3.0,>=2.0 in c:\\users\\vicky\\anaconda3\\lib\\site-packages (from aiohttp) (2.0.9)\n",
      "Requirement already satisfied: aiosignal>=1.1.2 in c:\\users\\vicky\\anaconda3\\lib\\site-packages (from aiohttp) (1.2.0)\n",
      "Requirement already satisfied: async-timeout<5.0,>=4.0.0a3 in c:\\users\\vicky\\anaconda3\\lib\\site-packages (from aiohttp) (4.0.2)\n",
      "Requirement already satisfied: frozenlist>=1.1.1 in c:\\users\\vicky\\anaconda3\\lib\\site-packages (from aiohttp) (1.2.0)\n",
      "Requirement already satisfied: yarl<2.0,>=1.0 in c:\\users\\vicky\\anaconda3\\lib\\site-packages (from aiohttp) (1.7.2)\n",
      "Requirement already satisfied: multidict<7.0,>=4.5 in c:\\users\\vicky\\anaconda3\\lib\\site-packages (from aiohttp) (5.2.0)\n",
      "Requirement already satisfied: attrs>=17.3.0 in c:\\users\\vicky\\anaconda3\\lib\\site-packages (from aiohttp) (19.3.0)\n",
      "Requirement already satisfied: idna>=2.0 in c:\\users\\vicky\\anaconda3\\lib\\site-packages (from yarl<2.0,>=1.0->aiohttp) (2.10)\n"
     ]
    }
   ],
   "source": [
    "!pip install aiohttp"
   ]
  },
  {
   "cell_type": "code",
   "execution_count": 4,
   "metadata": {
    "scrolled": true
   },
   "outputs": [
    {
     "data": {
      "text/plain": [
       "<ResourceRoute [GET] <PlainResource 'mars_photo'  /> -> <function get_mars_photo at 0x0000016D8A8F6B80>"
      ]
     },
     "execution_count": 4,
     "metadata": {},
     "output_type": "execute_result"
    }
   ],
   "source": [
    "import random, io\n",
    "from aiohttp import web, ClientSession\n",
    "from PIL import Image\n",
    "\n",
    "NASA_API_KEY = 'DEMO_KEY'\n",
    "ROVER_URL = 'https://api.nasa.gov/mars-photos/api/v1/rovers/curiosity/photos'\n",
    "\n",
    "\n",
    "async def validate_image(image_bytes):\n",
    "    image = Image.open(io.BytesIO(image_bytes))\n",
    "    return image.width >= 1024 and image.height >= 1024 and image.mode != 'L'\n",
    "\n",
    "\n",
    "async def get_mars_image_url_from_nasa():\n",
    "    while True:\n",
    "        sol = random.randint(0, 1722)\n",
    "        params = {'sol': sol, 'api_key': NASA_API_KEY}\n",
    "        async with ClientSession() as session:\n",
    "            async with session.get(ROVER_URL, params=params) as resp:\n",
    "                resp_dict = await resp.json()\n",
    "        if 'photos' not in resp_dict:\n",
    "            raise Exception\n",
    "        photos = resp_dict['photos']\n",
    "        if not photos:\n",
    "            continue\n",
    "        return random.choice(photos)['img_src']\n",
    "\n",
    "\n",
    "async def get_mars_photo_bytes():\n",
    "    while True:\n",
    "        image_url = await get_mars_image_url_from_nasa()\n",
    "        async with ClientSession() as session:\n",
    "            async with session.get(image_url) as resp:\n",
    "                image_bytes = await resp.read()\n",
    "        if await validate_image(image_bytes):\n",
    "            break\n",
    "    return image_bytes\n",
    "\n",
    "\n",
    "async def get_mars_photo(request):\n",
    "    image = await get_mars_photo_bytes()\n",
    "    return web.Response(body=image, content_type='image/jpeg')\n",
    "\n",
    "\n",
    "app = web.Application()\n",
    "app.router.add_get('/', get_mars_photo, name='mars_photo')\n",
    "\n",
    "# web.run_app(app, host='127.0.0.1', port=8080)"
   ]
  },
  {
   "cell_type": "code",
   "execution_count": null,
   "metadata": {},
   "outputs": [],
   "source": []
  }
 ],
 "metadata": {
  "kernelspec": {
   "display_name": "Python 3",
   "language": "python",
   "name": "python3"
  },
  "language_info": {
   "codemirror_mode": {
    "name": "ipython",
    "version": 3
   },
   "file_extension": ".py",
   "mimetype": "text/x-python",
   "name": "python",
   "nbconvert_exporter": "python",
   "pygments_lexer": "ipython3",
   "version": "3.8.3"
  }
 },
 "nbformat": 4,
 "nbformat_minor": 4
}
